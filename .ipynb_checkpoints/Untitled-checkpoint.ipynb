{
 "cells": [
  {
   "cell_type": "markdown",
   "id": "564c6079",
   "metadata": {},
   "source": [
    "<a id='conclusions'></a>\n",
    "## Conclusions\n",
    "\n",
    "**Results**: Our data suggest that:\n",
    "<br>\n",
    "\n",
    "    * Most of the states were not given permits for guns and the highest one is only KENTUCKY state.\n",
    "    * each type of gun ( hand, long, and other guns) were varied between each state but the most sold one was the HandGun type.\n",
    "    * Men and women owning Firms in different states, New York where the highest values especially from Men gender.\n",
    "</br>\n",
    "___\n",
    ">**Limitations**: There are a couple of limitations with our data:\n",
    "<br>\n",
    "<br>       1. Both of the datasets were useful in visualizing the usage and selling the guns in the USA's states.\n",
    "<br>       2. However, cleaning the data and extracting the used data only were slightly diffecult espicalliy for US_CENSUS_DF as most of it is data were collected in rows.\n",
    "</br>\n"
   ]
  },
  {
   "cell_type": "code",
   "execution_count": null,
   "id": "2fbd2c48",
   "metadata": {},
   "outputs": [],
   "source": []
  }
 ],
 "metadata": {
  "kernelspec": {
   "display_name": "Python 3",
   "language": "python",
   "name": "python3"
  },
  "language_info": {
   "codemirror_mode": {
    "name": "ipython",
    "version": 3
   },
   "file_extension": ".py",
   "mimetype": "text/x-python",
   "name": "python",
   "nbconvert_exporter": "python",
   "pygments_lexer": "ipython3",
   "version": "3.9.2"
  }
 },
 "nbformat": 4,
 "nbformat_minor": 5
}
